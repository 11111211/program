{
  "nbformat": 4,
  "nbformat_minor": 0,
  "metadata": {
    "colab": {
      "provenance": [],
      "authorship_tag": "ABX9TyMQl+Ir/09/wcdcKrJ4zncW",
      "include_colab_link": true
    },
    "kernelspec": {
      "name": "python3",
      "display_name": "Python 3"
    },
    "language_info": {
      "name": "python"
    }
  },
  "cells": [
    {
      "cell_type": "markdown",
      "metadata": {
        "id": "view-in-github",
        "colab_type": "text"
      },
      "source": [
        "<a href=\"https://colab.research.google.com/github/11111211/program/blob/main/Untitled4.ipynb\" target=\"_parent\"><img src=\"https://colab.research.google.com/assets/colab-badge.svg\" alt=\"Open In Colab\"/></a>"
      ]
    },
    {
      "cell_type": "code",
      "execution_count": 5,
      "metadata": {
        "colab": {
          "base_uri": "https://localhost:8080/"
        },
        "id": "3TSZfXxKZv5H",
        "outputId": "ff30e47d-f6ef-4055-ef0f-7ac792e2da41"
      },
      "outputs": [
        {
          "output_type": "stream",
          "name": "stdout",
          "text": [
            "Enter the room number: 1\n",
            "The room name is Foyer\n"
          ]
        }
      ],
      "source": [
        "rooms = {1: 'Foyer', 2: 'Conference Room'}\n",
        "room = int(input('Enter the room number: '))\n",
        "if not room in rooms:\n",
        " print('Room does not exist.')\n",
        "else:\n",
        " print(\"The room name is \" + rooms[room])"
      ]
    }
  ]
}